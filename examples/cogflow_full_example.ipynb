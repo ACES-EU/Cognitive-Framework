{
 "cells": [
  {
   "cell_type": "code",
   "execution_count": 85,
   "id": "ab06639a-68ab-4b68-9eb7-0b05a9028b28",
   "metadata": {
    "tags": []
   },
   "outputs": [
    {
     "name": "stdout",
     "output_type": "stream",
     "text": [
      "Downloaded bola.yaml from mlflow\n"
     ]
    }
   ],
   "source": [
    "import cogflow as cf\n",
    "import requests\n",
    "import boto3\n",
    "import json\n",
    "import os\n",
    "      \n",
    "cf.get_dataset(name=\"bola\")\n",
    "downloaded_file_name = 'bola.yaml'\n",
    "\n",
    "web_downloader_op = cf.load_component(file_path=downloaded_file_name)"
   ]
  },
  {
   "cell_type": "code",
   "execution_count": 86,
   "id": "b901cea4-52b9-4d22-9743-a4a6d9cdaaa0",
   "metadata": {
    "tags": []
   },
   "outputs": [],
   "source": [
    "def preprocess(file_path: cf.input_path('CSV'),\n",
    "              output_file: cf.output_path('parquet')):\n",
    "    import pandas as pd\n",
    "    df = pd.read_csv(file_path, header=0, sep=\";\")\n",
    "    df.columns = [c.lower().replace(' ', '_') for c in df.columns]\n",
    "    df.to_parquet(output_file)"
   ]
  },
  {
   "cell_type": "code",
   "execution_count": 87,
   "id": "e84442e6-bcf8-4cec-b48b-f36cb8078939",
   "metadata": {
    "tags": []
   },
   "outputs": [],
   "source": [
    "preprocess_op=cf.create_component_from_func(\n",
    "        func=preprocess,\n",
    "        output_component_file='preprocess-component.yaml',\n",
    "        base_image='hiroregistry/cogflow:1.9.36b1',\n",
    "        packages_to_install=[])"
   ]
  },
  {
   "cell_type": "code",
   "execution_count": 88,
   "id": "8fbde761-722e-4a54-8444-3320c23c4338",
   "metadata": {
    "tags": []
   },
   "outputs": [],
   "source": [
    "\n",
    "def training(file_path: cf.input_path('parquet'))->dict:\n",
    "    \n",
    "    import pandas as pd\n",
    "    from sklearn.model_selection import train_test_split\n",
    "    from sklearn.metrics import classification_report\n",
    "    from sklearn.linear_model import ElasticNet\n",
    "    import os\n",
    "    from datetime import datetime\n",
    "    import numpy as np\n",
    "    import cogflow as cf\n",
    "    import json\n",
    "    df = pd.read_parquet(file_path)\n",
    "    #os.environ['API_BASEPATH']= 'http://model-register-service/cogapi/'\n",
    "    print(\"ENV_VAR\",os.getenv(\"MLFLOW_S3_ENDPOINT_URL\"))\n",
    "    \n",
    "    cf.autolog()\n",
    "    \n",
    "    target_column='quality'\n",
    "    train_x, test_x, train_y, test_y = train_test_split(df.drop(columns=[target_column]),\n",
    "                                                    df[target_column], test_size=.25,\n",
    "                                                    random_state=1337, stratify=df[target_column])  \n",
    "\n",
    "    with cf.start_run() as run:\n",
    "        alpha =  0.5\n",
    "        l1_ratio =  0.5\n",
    "        lr = ElasticNet(alpha=alpha, l1_ratio=l1_ratio, random_state=42)\n",
    "        lr.fit(train_x, train_y)\n",
    "        cf.log_param(\"alpha\",alpha)\n",
    "        cf.log_param(\"l1_ratio\",l1_ratio)\n",
    "        \n",
    "        model_name = \"wine-elasticnet\"\n",
    "        run_id = run.info.run_id\n",
    "        artifact_path = \"model\"\n",
    "        result = cf.log_model(lr, artifact_path, registered_model_name= \"wine-elasticnet\")\n",
    "\n",
    "        print(f\"Artifact_uri\", run.info.artifact_uri)\n",
    "        print(f\"Artifact_path\", artifact_path)\n",
    "        print(f\"run_id\", run_id)\n",
    "        print(f\"model_name\", model_name)\n",
    "        return run.info.artifact_uri\n",
    "    \n",
    "    "
   ]
  },
  {
   "cell_type": "code",
   "execution_count": 89,
   "id": "6c40a722-bbb7-4c9d-927f-29868e8735a0",
   "metadata": {
    "tags": []
   },
   "outputs": [],
   "source": [
    "training_op=cf.create_component_from_func(\n",
    "        func=training,\n",
    "        output_component_file='train-component.yaml', \n",
    "        base_image='hiroregistry/cogflow:1.9.36b1',\n",
    "        packages_to_install=[])"
   ]
  },
  {
   "cell_type": "code",
   "execution_count": 90,
   "id": "cee199f4-f87b-4848-be22-059b7a84033e",
   "metadata": {
    "tags": []
   },
   "outputs": [],
   "source": [
    "def get_registered_model_details(model_name: str, run_id: str) -> dict:\n",
    "\n",
    "    from cogflow import cogclient\n",
    "    client = cogclient\n",
    "    \n",
    "    # Filter the registered model based on model name\n",
    "    filter_string = f\"name='{model_name}' AND run_id='{run_id}'\"\n",
    "    registered_model = client.search_registered_models(filter_string=filter_string)\n",
    "    \n",
    "    return registered_model"
   ]
  },
  {
   "cell_type": "code",
   "execution_count": 91,
   "id": "298ebd00-1952-48de-b8fa-297a721c222d",
   "metadata": {
    "tags": []
   },
   "outputs": [],
   "source": [
    "get_model_details_op = cf.create_component_from_func(\n",
    "    func=get_registered_model_details,\n",
    "    output_component_file='get-model-details-component.yaml',\n",
    "    base_image='hiroregistry/cogflow:1.9.36b1',\n",
    "    packages_to_install=[])"
   ]
  },
  {
   "cell_type": "code",
   "execution_count": 92,
   "id": "11e52831-5de8-46fe-8698-7a760c5cc537",
   "metadata": {
    "tags": []
   },
   "outputs": [],
   "source": [
    "\n",
    "def serving(model_uri,name):\n",
    "    import cogflow as cf\n",
    "    cf.serve_model_v1(model_uri,name)\n",
    "    "
   ]
  },
  {
   "cell_type": "code",
   "execution_count": 93,
   "id": "b34d0356-6f6d-4b7c-b75d-a7a6a8e1d594",
   "metadata": {
    "tags": []
   },
   "outputs": [],
   "source": [
    "kserve_op=cf.create_component_from_func(func=serving,\n",
    "        output_component_file='kserve-component.yaml',\n",
    "        base_image='hiroregistry/cogflow:1.9.36b1',\n",
    "        packages_to_install=[])"
   ]
  },
  {
   "cell_type": "code",
   "execution_count": 94,
   "id": "0cbc1a32-5fcc-45a9-aa54-c87597f01f6a",
   "metadata": {
    "tags": []
   },
   "outputs": [],
   "source": [
    "def getmodel(name):\n",
    "    import cogflow as cf\n",
    "    cf.get_model_url(name)\n",
    "    "
   ]
  },
  {
   "cell_type": "code",
   "execution_count": 95,
   "id": "19d06a4f-4bcb-4f66-8020-a5b45d3d168a",
   "metadata": {
    "tags": []
   },
   "outputs": [],
   "source": [
    "getmodel_op=cf.create_component_from_func(func=getmodel,\n",
    "        output_component_file='kserve-component.yaml',\n",
    "        base_image='hiroregistry/cogflow:1.9.36b1',\n",
    "        packages_to_install=[])"
   ]
  },
  {
   "cell_type": "code",
   "execution_count": 96,
   "id": "ca84e058-b54e-48e9-aeed-189f25ec3bf1",
   "metadata": {
    "tags": []
   },
   "outputs": [],
   "source": [
    "\n",
    "@cf.pipeline(name=\"pipeline\", description=\"WINE pipeline\")\n",
    "def wine_pipeline(url, isvc):\n",
    "    web_downloader_task = web_downloader_op(url=url)\n",
    "    preprocess_task = preprocess_op(file=web_downloader_task.outputs['data'])\n",
    "    \n",
    "    train_task = (training_op(file=preprocess_task.outputs['output']));\n",
    "    train_task=train_task.AddModelAccess()    \n",
    "    \n",
    "    kserve_task=kserve_op(model_uri=train_task.output,name=isvc)\n",
    "    kserve_task.after(train_task)\n",
    "    \n",
    "    getmodel_task=getmodel_op(isvc)\n",
    "    getmodel_task.after(kserve_task)\n"
   ]
  },
  {
   "cell_type": "code",
   "execution_count": 97,
   "id": "87a834b8-123d-4d3d-bbce-5b5e30c85ba3",
   "metadata": {
    "tags": []
   },
   "outputs": [
    {
     "data": {
      "text/html": [
       "<a href=\"/pipeline/#/experiments/details/fd6582c7-bad8-452d-9a87-406c6609cbf7\" target=\"_blank\" >Experiment details</a>."
      ],
      "text/plain": [
       "<IPython.core.display.HTML object>"
      ]
     },
     "metadata": {},
     "output_type": "display_data"
    },
    {
     "data": {
      "text/html": [
       "<a href=\"/pipeline/#/runs/details/1189b65a-655a-4f5e-88f6-35f64ef9c004\" target=\"_blank\" >Run details</a>."
      ],
      "text/plain": [
       "<IPython.core.display.HTML object>"
      ]
     },
     "metadata": {},
     "output_type": "display_data"
    },
    {
     "data": {
      "text/plain": [
       "RunPipelineResult(run_id=1189b65a-655a-4f5e-88f6-35f64ef9c004)"
      ]
     },
     "execution_count": 97,
     "metadata": {},
     "output_type": "execute_result"
    }
   ],
   "source": [
    "\n",
    "client = cf.client()\n",
    "\n",
    "client.create_run_from_pipeline_func(\n",
    "    wine_pipeline,\n",
    "    arguments={\n",
    "        \"url\": \"https://raw.githubusercontent.com/Barteus/kubeflow-examples/main/e2e-wine-kfp-mlflow/winequality-red.csv\",\n",
    "    \"isvc\":\"sample-test1\"}\n",
    ")\n",
    "\n"
   ]
  },
  {
   "cell_type": "code",
   "execution_count": 98,
   "id": "19e7dcba-e913-4139-ae75-e2b2e5178065",
   "metadata": {},
   "outputs": [
    {
     "name": "stdout",
     "output_type": "stream",
     "text": [
      "{\"predictions\":[5.741928028712652]}\n"
     ]
    }
   ],
   "source": [
    "import requests\n",
    "inference_input = {\n",
    "\"instances\": [\n",
    "    [10.1, 0.37, 0.34, 2.4, 0.085, 5.0, 17.0, 0.99683, 3.17, 0.65, 10.6]]\n",
    "}\n",
    "response = requests.post(f\"http://10.100.184.43/v1/models/model:predict\", json=inference_input)\n",
    "print(response.text)"
   ]
  },
  {
   "cell_type": "code",
   "execution_count": null,
   "id": "85bf06b6-c987-4aee-a8f0-a287a2877b5e",
   "metadata": {},
   "outputs": [],
   "source": []
  }
 ],
 "metadata": {
  "kernelspec": {
   "display_name": "Python 3 (ipykernel)",
   "language": "python",
   "name": "python3"
  },
  "language_info": {
   "codemirror_mode": {
    "name": "ipython",
    "version": 3
   },
   "file_extension": ".py",
   "mimetype": "text/x-python",
   "name": "python",
   "nbconvert_exporter": "python",
   "pygments_lexer": "ipython3",
   "version": "3.11.6"
  }
 },
 "nbformat": 4,
 "nbformat_minor": 5
}
